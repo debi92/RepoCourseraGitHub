{
  "nbformat": 4,
  "nbformat_minor": 0,
  "metadata": {
    "colab": {
      "name": "Tuition Fee Prediction.ipynb",
      "provenance": [],
      "collapsed_sections": [],
      "toc_visible": true,
      "include_colab_link": true
    },
    "kernelspec": {
      "name": "python3",
      "display_name": "Python 3"
    },
    "language_info": {
      "name": "python"
    }
  },
  "cells": [
    {
      "cell_type": "markdown",
      "metadata": {
        "id": "view-in-github",
        "colab_type": "text"
      },
      "source": [
        "<a href=\"https://colab.research.google.com/github/debi92/RepoCourseraGitHub/blob/main/Tuition_Fee_Prediction.ipynb\" target=\"_parent\"><img src=\"https://colab.research.google.com/assets/colab-badge.svg\" alt=\"Open In Colab\"/></a>"
      ]
    },
    {
      "cell_type": "markdown",
      "metadata": {
        "id": "OEGWaT-kvjJF"
      },
      "source": [
        "## Tuition Fee Prediction based on Student's Family's Socio-Economic Factors\n",
        "\n",
        "Education is still a major problem in Indonesia. One of the main reason is the unequality of educational facility and socio economic factors that caused someone to dropout from school. This project is to give prediction on which category of tuition fee that every student need to pay based on their family's socio-economic factors, such as: income, electricity bill, water bill, internet bill, house ownership, house size, number of dependents in the family so it will give an equality in the payment of education fees, where people with better economies will help paying for the poorer education. \n",
        "Manually analyzing these factors is mundane, error-prone, and time-consuming (and time is money!). Luckily, this task can be automated with the power of machine learning. In this notebook, we will build an automatic tuition fee predictor using machine learning techniques.\n",
        "\n",
        "The dataset we used was made by ourselves by gaining data from parents in Java (mostly Jakarta and West Java). We asked them their socio economic background and the tuition fee their paying monthly. \n",
        "The structure of this notebook is as follows:\n",
        "\n",
        "First, we will start off by loading and viewing the dataset.\n",
        "\n",
        "1.   First, we will start by importing the library that needed in this project\n",
        "2.   Then we will load and view the dataset. \n",
        "3.   We will see that the dataset has a mixture of both numerical and non-numerical features, that it contains values from different ranges.\n",
        "4.   We will have to preprocess the dataset to ensure the machine learning model we choose can make good predictions.\n",
        "5.   After our data is in good shape, we will do some exploratory data analysis to build our intuitions.\n",
        "6.   Finally, we will build a machine learning model that can predict the tuition fee's category. "
      ]
    },
    {
      "cell_type": "code",
      "metadata": {
        "id": "4B8ucpBmuiU_"
      },
      "source": [
        "import numpy as np\n",
        "import pandas as pd\n",
        "import matplotlib.pyplot as plt\n",
        "\n",
        "from sklearn.preprocessing import LabelEncoder, StandardScaler\n",
        "from sklearn.model_selection import train_test_split\n",
        "\n",
        "import tensorflow as tf"
      ],
      "execution_count": 1,
      "outputs": []
    },
    {
      "cell_type": "code",
      "metadata": {
        "colab": {
          "base_uri": "https://localhost:8080/",
          "height": 492
        },
        "id": "kfl0CoDFviS2",
        "outputId": "cbbca83a-32df-42f6-db7c-cc443fe22b54"
      },
      "source": [
        "from google.colab import drive\n",
        "\n",
        "tfp = pd.read_csv('/content/Dataset Sosial Ekonomi dan Uang Sekolah.csv')\n",
        "tfp.head()"
      ],
      "execution_count": 2,
      "outputs": [
        {
          "output_type": "execute_result",
          "data": {
            "text/html": [
              "<div>\n",
              "<style scoped>\n",
              "    .dataframe tbody tr th:only-of-type {\n",
              "        vertical-align: middle;\n",
              "    }\n",
              "\n",
              "    .dataframe tbody tr th {\n",
              "        vertical-align: top;\n",
              "    }\n",
              "\n",
              "    .dataframe thead th {\n",
              "        text-align: right;\n",
              "    }\n",
              "</style>\n",
              "<table border=\"1\" class=\"dataframe\">\n",
              "  <thead>\n",
              "    <tr style=\"text-align: right;\">\n",
              "      <th></th>\n",
              "      <th>Nama</th>\n",
              "      <th>Domisili</th>\n",
              "      <th>Pekerjaan</th>\n",
              "      <th>Tingkat</th>\n",
              "      <th>Nama sekolah</th>\n",
              "      <th>Jenis sekolah</th>\n",
              "      <th>Biaya sekolah</th>\n",
              "      <th>Kepemilikan rumah</th>\n",
              "      <th>Jenis bangunan</th>\n",
              "      <th>Ukuran rumah</th>\n",
              "      <th>Listrik</th>\n",
              "      <th>Air</th>\n",
              "      <th>Internet</th>\n",
              "      <th>Penghasilan</th>\n",
              "      <th>Jumlah tanggungan</th>\n",
              "    </tr>\n",
              "  </thead>\n",
              "  <tbody>\n",
              "    <tr>\n",
              "      <th>0</th>\n",
              "      <td>HN</td>\n",
              "      <td>Jakarta</td>\n",
              "      <td>IRT</td>\n",
              "      <td>SD</td>\n",
              "      <td>Chandra Kusuma</td>\n",
              "      <td>Swasta</td>\n",
              "      <td>Rp 500.001 - Rp 1.000.000</td>\n",
              "      <td>Milik sendiri/ keluarga</td>\n",
              "      <td>Rumah</td>\n",
              "      <td>&lt; 36 m2</td>\n",
              "      <td>Rp. 500.001 – Rp. 1.000.000</td>\n",
              "      <td>Rp. 250.001 – Rp. 500.000</td>\n",
              "      <td>Rp. 100.000 – Rp. 250.000</td>\n",
              "      <td>Rp. 3.000.001 - Rp. 6.000.000</td>\n",
              "      <td>2</td>\n",
              "    </tr>\n",
              "    <tr>\n",
              "      <th>1</th>\n",
              "      <td>HN</td>\n",
              "      <td>Jakarta</td>\n",
              "      <td>IRT</td>\n",
              "      <td>SD</td>\n",
              "      <td>SDN 01 pejagalan</td>\n",
              "      <td>Negri</td>\n",
              "      <td>≤ Rp. 100.000</td>\n",
              "      <td>Milik sendiri/ keluarga</td>\n",
              "      <td>Rumah</td>\n",
              "      <td>&lt; 36 m2</td>\n",
              "      <td>Rp. 500.001 – Rp. 1.000.000</td>\n",
              "      <td>Rp. 250.001 – Rp. 500.000</td>\n",
              "      <td>Rp. 100.000 – Rp. 250.000</td>\n",
              "      <td>Rp. 3.000.001 - Rp. 6.000.000</td>\n",
              "      <td>2</td>\n",
              "    </tr>\n",
              "    <tr>\n",
              "      <th>2</th>\n",
              "      <td>SG</td>\n",
              "      <td>Banten</td>\n",
              "      <td>Guru</td>\n",
              "      <td>SD</td>\n",
              "      <td>SD 03</td>\n",
              "      <td>Negri</td>\n",
              "      <td>≤ Rp. 100.000</td>\n",
              "      <td>Kontrak/ sewa</td>\n",
              "      <td>Rumah</td>\n",
              "      <td>36 – 60 m2</td>\n",
              "      <td>Rp. 250.001 – Rp. 500.000</td>\n",
              "      <td>≤ Rp. 100.000</td>\n",
              "      <td>Rp. 100.000 – Rp. 250.000</td>\n",
              "      <td>Rp. 3.000.001 - Rp. 6.000.000</td>\n",
              "      <td>3</td>\n",
              "    </tr>\n",
              "    <tr>\n",
              "      <th>3</th>\n",
              "      <td>Ros</td>\n",
              "      <td>Jakarta</td>\n",
              "      <td>Wiraswasta</td>\n",
              "      <td>SD</td>\n",
              "      <td>SD CHANDRA KUSUMA</td>\n",
              "      <td>Swasta</td>\n",
              "      <td>Rp 500.001 - Rp 1.000.000</td>\n",
              "      <td>Kontrak/ sewa</td>\n",
              "      <td>Rumah</td>\n",
              "      <td>36 – 60 m2</td>\n",
              "      <td>Lebih dari Rp 1.000.000</td>\n",
              "      <td>Rp. 500.001 – Rp. 1.000.000</td>\n",
              "      <td>Rp. 250.001 – Rp. 500.000</td>\n",
              "      <td>Rp. 10.000.001 - Rp.20.000.000</td>\n",
              "      <td>1</td>\n",
              "    </tr>\n",
              "    <tr>\n",
              "      <th>4</th>\n",
              "      <td>DS</td>\n",
              "      <td>Jakarta</td>\n",
              "      <td>IRT</td>\n",
              "      <td>SD</td>\n",
              "      <td>Chandra Kusuma</td>\n",
              "      <td>Swasta</td>\n",
              "      <td>Rp 500.001 - Rp 1.000.000</td>\n",
              "      <td>Milik sendiri/ keluarga</td>\n",
              "      <td>Rumah</td>\n",
              "      <td>61 – 90 m2</td>\n",
              "      <td>Lebih dari Rp 1.000.000</td>\n",
              "      <td>Rp. 100.000 – Rp. 250.000</td>\n",
              "      <td>Rp. 100.000 – Rp. 250.000</td>\n",
              "      <td>Rp. 10.000.001 - Rp.20.000.000</td>\n",
              "      <td>3</td>\n",
              "    </tr>\n",
              "  </tbody>\n",
              "</table>\n",
              "</div>"
            ],
            "text/plain": [
              "  Nama Domisili  ...                     Penghasilan Jumlah tanggungan\n",
              "0   HN  Jakarta  ...   Rp. 3.000.001 - Rp. 6.000.000                 2\n",
              "1   HN  Jakarta  ...   Rp. 3.000.001 - Rp. 6.000.000                 2\n",
              "2   SG   Banten  ...   Rp. 3.000.001 - Rp. 6.000.000                 3\n",
              "3  Ros  Jakarta  ...  Rp. 10.000.001 - Rp.20.000.000                 1\n",
              "4   DS  Jakarta  ...  Rp. 10.000.001 - Rp.20.000.000                 3\n",
              "\n",
              "[5 rows x 15 columns]"
            ]
          },
          "metadata": {
            "tags": []
          },
          "execution_count": 2
        }
      ]
    },
    {
      "cell_type": "markdown",
      "metadata": {
        "id": "-7jZ6kq62TXM"
      },
      "source": [
        "# Check Data Type"
      ]
    },
    {
      "cell_type": "code",
      "metadata": {
        "colab": {
          "base_uri": "https://localhost:8080/"
        },
        "id": "-h6wbB4W3tL6",
        "outputId": "6fb5ff88-1e4b-45ec-dd9e-ff2a81e3e199"
      },
      "source": [
        "tfp.info()"
      ],
      "execution_count": 3,
      "outputs": [
        {
          "output_type": "stream",
          "text": [
            "<class 'pandas.core.frame.DataFrame'>\n",
            "RangeIndex: 113 entries, 0 to 112\n",
            "Data columns (total 15 columns):\n",
            " #   Column             Non-Null Count  Dtype \n",
            "---  ------             --------------  ----- \n",
            " 0   Nama               113 non-null    object\n",
            " 1   Domisili           113 non-null    object\n",
            " 2   Pekerjaan          113 non-null    object\n",
            " 3   Tingkat            113 non-null    object\n",
            " 4   Nama sekolah       113 non-null    object\n",
            " 5   Jenis sekolah      113 non-null    object\n",
            " 6   Biaya sekolah      113 non-null    object\n",
            " 7   Kepemilikan rumah  113 non-null    object\n",
            " 8   Jenis bangunan     113 non-null    object\n",
            " 9   Ukuran rumah       113 non-null    object\n",
            " 10  Listrik            113 non-null    object\n",
            " 11  Air                113 non-null    object\n",
            " 12  Internet           113 non-null    object\n",
            " 13  Penghasilan        113 non-null    object\n",
            " 14  Jumlah tanggungan  113 non-null    object\n",
            "dtypes: object(15)\n",
            "memory usage: 13.4+ KB\n"
          ],
          "name": "stdout"
        }
      ]
    },
    {
      "cell_type": "markdown",
      "metadata": {
        "id": "itF1Asn42Ig8"
      },
      "source": [
        "# Change categorical data"
      ]
    },
    {
      "cell_type": "code",
      "metadata": {
        "colab": {
          "base_uri": "https://localhost:8080/",
          "height": 492
        },
        "id": "VLapNh3hAEKO",
        "outputId": "bdbab042-38ea-45c5-a15a-50f42e8095fa"
      },
      "source": [
        "biaya_dict = {'≤ Rp. 100.000':1,'Rp 100.001 - Rp 500.000':2,'Rp 500.001 - Rp 1.000.000':3,'Rp 1.000.001 - Rp 2.000.000':4,'lebih dari 2 juta':5}\n",
        "tfp['Biaya kat'] = tfp['Biaya sekolah'].map(biaya_dict)\n",
        "\n",
        "kepemilikan_dict = {'Milik sendiri/ keluarga':2,'Kontrak/ sewa':1}\n",
        "tfp['Kepemilikan kat'] = tfp['Kepemilikan rumah'].map(kepemilikan_dict)\n",
        "\n",
        "jenis_bangunan_dict = {}\n",
        "\n",
        "tfp.head()"
      ],
      "execution_count": 13,
      "outputs": [
        {
          "output_type": "execute_result",
          "data": {
            "text/html": [
              "<div>\n",
              "<style scoped>\n",
              "    .dataframe tbody tr th:only-of-type {\n",
              "        vertical-align: middle;\n",
              "    }\n",
              "\n",
              "    .dataframe tbody tr th {\n",
              "        vertical-align: top;\n",
              "    }\n",
              "\n",
              "    .dataframe thead th {\n",
              "        text-align: right;\n",
              "    }\n",
              "</style>\n",
              "<table border=\"1\" class=\"dataframe\">\n",
              "  <thead>\n",
              "    <tr style=\"text-align: right;\">\n",
              "      <th></th>\n",
              "      <th>Nama</th>\n",
              "      <th>Domisili</th>\n",
              "      <th>Pekerjaan</th>\n",
              "      <th>Tingkat</th>\n",
              "      <th>Nama sekolah</th>\n",
              "      <th>Jenis sekolah</th>\n",
              "      <th>Biaya sekolah</th>\n",
              "      <th>Kepemilikan rumah</th>\n",
              "      <th>Jenis bangunan</th>\n",
              "      <th>Ukuran rumah</th>\n",
              "      <th>Listrik</th>\n",
              "      <th>Air</th>\n",
              "      <th>Internet</th>\n",
              "      <th>Penghasilan</th>\n",
              "      <th>Jumlah tanggungan</th>\n",
              "      <th>Biaya kat</th>\n",
              "      <th>Kepemilikan kat</th>\n",
              "    </tr>\n",
              "  </thead>\n",
              "  <tbody>\n",
              "    <tr>\n",
              "      <th>0</th>\n",
              "      <td>HN</td>\n",
              "      <td>Jakarta</td>\n",
              "      <td>IRT</td>\n",
              "      <td>SD</td>\n",
              "      <td>Chandra Kusuma</td>\n",
              "      <td>Swasta</td>\n",
              "      <td>Rp 500.001 - Rp 1.000.000</td>\n",
              "      <td>Milik sendiri/ keluarga</td>\n",
              "      <td>Rumah</td>\n",
              "      <td>&lt; 36 m2</td>\n",
              "      <td>Rp. 500.001 – Rp. 1.000.000</td>\n",
              "      <td>Rp. 250.001 – Rp. 500.000</td>\n",
              "      <td>Rp. 100.000 – Rp. 250.000</td>\n",
              "      <td>Rp. 3.000.001 - Rp. 6.000.000</td>\n",
              "      <td>2</td>\n",
              "      <td>3</td>\n",
              "      <td>2</td>\n",
              "    </tr>\n",
              "    <tr>\n",
              "      <th>1</th>\n",
              "      <td>HN</td>\n",
              "      <td>Jakarta</td>\n",
              "      <td>IRT</td>\n",
              "      <td>SD</td>\n",
              "      <td>SDN 01 pejagalan</td>\n",
              "      <td>Negri</td>\n",
              "      <td>≤ Rp. 100.000</td>\n",
              "      <td>Milik sendiri/ keluarga</td>\n",
              "      <td>Rumah</td>\n",
              "      <td>&lt; 36 m2</td>\n",
              "      <td>Rp. 500.001 – Rp. 1.000.000</td>\n",
              "      <td>Rp. 250.001 – Rp. 500.000</td>\n",
              "      <td>Rp. 100.000 – Rp. 250.000</td>\n",
              "      <td>Rp. 3.000.001 - Rp. 6.000.000</td>\n",
              "      <td>2</td>\n",
              "      <td>1</td>\n",
              "      <td>2</td>\n",
              "    </tr>\n",
              "    <tr>\n",
              "      <th>2</th>\n",
              "      <td>SG</td>\n",
              "      <td>Banten</td>\n",
              "      <td>Guru</td>\n",
              "      <td>SD</td>\n",
              "      <td>SD 03</td>\n",
              "      <td>Negri</td>\n",
              "      <td>≤ Rp. 100.000</td>\n",
              "      <td>Kontrak/ sewa</td>\n",
              "      <td>Rumah</td>\n",
              "      <td>36 – 60 m2</td>\n",
              "      <td>Rp. 250.001 – Rp. 500.000</td>\n",
              "      <td>≤ Rp. 100.000</td>\n",
              "      <td>Rp. 100.000 – Rp. 250.000</td>\n",
              "      <td>Rp. 3.000.001 - Rp. 6.000.000</td>\n",
              "      <td>3</td>\n",
              "      <td>1</td>\n",
              "      <td>1</td>\n",
              "    </tr>\n",
              "    <tr>\n",
              "      <th>3</th>\n",
              "      <td>Ros</td>\n",
              "      <td>Jakarta</td>\n",
              "      <td>Wiraswasta</td>\n",
              "      <td>SD</td>\n",
              "      <td>SD CHANDRA KUSUMA</td>\n",
              "      <td>Swasta</td>\n",
              "      <td>Rp 500.001 - Rp 1.000.000</td>\n",
              "      <td>Kontrak/ sewa</td>\n",
              "      <td>Rumah</td>\n",
              "      <td>36 – 60 m2</td>\n",
              "      <td>Lebih dari Rp 1.000.000</td>\n",
              "      <td>Rp. 500.001 – Rp. 1.000.000</td>\n",
              "      <td>Rp. 250.001 – Rp. 500.000</td>\n",
              "      <td>Rp. 10.000.001 - Rp.20.000.000</td>\n",
              "      <td>1</td>\n",
              "      <td>3</td>\n",
              "      <td>1</td>\n",
              "    </tr>\n",
              "    <tr>\n",
              "      <th>4</th>\n",
              "      <td>DS</td>\n",
              "      <td>Jakarta</td>\n",
              "      <td>IRT</td>\n",
              "      <td>SD</td>\n",
              "      <td>Chandra Kusuma</td>\n",
              "      <td>Swasta</td>\n",
              "      <td>Rp 500.001 - Rp 1.000.000</td>\n",
              "      <td>Milik sendiri/ keluarga</td>\n",
              "      <td>Rumah</td>\n",
              "      <td>61 – 90 m2</td>\n",
              "      <td>Lebih dari Rp 1.000.000</td>\n",
              "      <td>Rp. 100.000 – Rp. 250.000</td>\n",
              "      <td>Rp. 100.000 – Rp. 250.000</td>\n",
              "      <td>Rp. 10.000.001 - Rp.20.000.000</td>\n",
              "      <td>3</td>\n",
              "      <td>3</td>\n",
              "      <td>2</td>\n",
              "    </tr>\n",
              "  </tbody>\n",
              "</table>\n",
              "</div>"
            ],
            "text/plain": [
              "  Nama Domisili   Pekerjaan  ... Jumlah tanggungan Biaya kat Kepemilikan kat\n",
              "0   HN  Jakarta         IRT  ...                 2         3               2\n",
              "1   HN  Jakarta         IRT  ...                 2         1               2\n",
              "2   SG   Banten        Guru  ...                 3         1               1\n",
              "3  Ros  Jakarta  Wiraswasta  ...                 1         3               1\n",
              "4   DS  Jakarta         IRT  ...                 3         3               2\n",
              "\n",
              "[5 rows x 17 columns]"
            ]
          },
          "metadata": {
            "tags": []
          },
          "execution_count": 13
        }
      ]
    },
    {
      "cell_type": "markdown",
      "metadata": {
        "id": "6bFHPrB04GLi"
      },
      "source": [
        "# Choosing the most relevant variable\n"
      ]
    },
    {
      "cell_type": "markdown",
      "metadata": {
        "id": "VJOGTkbJ2lIO"
      },
      "source": [
        "# Preprocessing Data"
      ]
    },
    {
      "cell_type": "markdown",
      "metadata": {
        "id": "E8zbbH5g2oeD"
      },
      "source": [
        "# Split the Data"
      ]
    },
    {
      "cell_type": "markdown",
      "metadata": {
        "id": "OyB9QCIe2sZz"
      },
      "source": [
        "# Modeling and Training"
      ]
    },
    {
      "cell_type": "markdown",
      "metadata": {
        "id": "b-yU1thC253n"
      },
      "source": [
        "# Result & Visualization\n"
      ]
    }
  ]
}